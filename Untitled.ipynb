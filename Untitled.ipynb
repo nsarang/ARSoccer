{
 "cells": [
  {
   "cell_type": "code",
   "execution_count": 8,
   "metadata": {
    "ExecuteTime": {
     "end_time": "2019-07-14T09:24:53.382141Z",
     "start_time": "2019-07-14T09:24:53.256862Z"
    }
   },
   "outputs": [],
   "source": [
    "!cd /Users/blaze/University/8th\\ Semester/Bachelor\\'s\\ Project/speed-detector-master/vsoccer"
   ]
  },
  {
   "cell_type": "code",
   "execution_count": 12,
   "metadata": {
    "ExecuteTime": {
     "end_time": "2019-07-14T09:30:25.510145Z",
     "start_time": "2019-07-14T09:30:06.197962Z"
    }
   },
   "outputs": [
    {
     "name": "stdout",
     "output_type": "stream",
     "text": [
      "conv_last_1/truediv\n"
     ]
    }
   ],
   "source": [
    "# Create checkpoint file from saved Keras model\n",
    "import tensorflow as tf\n",
    "model     = tf.keras.models.load_model(\"weights.39-0.56.hdf5\")\n",
    "sess      = tf.keras.backend.get_session()\n",
    "saver     = tf.train.Saver()\n",
    "save_path = saver.save(sess, \"model.ckpt\")\n",
    "# Will create the following files:\n",
    "# model.ckpt\n",
    "# model.ckpt.index\n",
    "# model.ckpt.meta\n",
    "# Find model node output\n",
    "print(model.output.op.name)"
   ]
  },
  {
   "cell_type": "code",
   "execution_count": 14,
   "metadata": {
    "ExecuteTime": {
     "end_time": "2019-07-14T09:30:34.861847Z",
     "start_time": "2019-07-14T09:30:32.128537Z"
    }
   },
   "outputs": [
    {
     "name": "stdout",
     "output_type": "stream",
     "text": [
      "W0714 14:00:34.468933 4379928000 deprecation.py:323] From /Users/blaze/anaconda3/lib/python3.6/site-packages/tensorflow/python/tools/freeze_graph.py:127: checkpoint_exists (from tensorflow.python.training.checkpoint_management) is deprecated and will be removed in a future version.\n",
      "Instructions for updating:\n",
      "Use standard file APIs to check for files with this prefix.\n",
      "2019-07-14 14:00:34.484581: I tensorflow/core/platform/cpu_feature_guard.cc:142] Your CPU supports instructions that this TensorFlow binary was not compiled to use: AVX2 FMA\n",
      "Traceback (most recent call last):\n",
      "  File \"/Users/blaze/anaconda3/bin/freeze_graph\", line 10, in <module>\n",
      "    sys.exit(run_main())\n",
      "  File \"/Users/blaze/anaconda3/lib/python3.6/site-packages/tensorflow/python/tools/freeze_graph.py\", line 487, in run_main\n",
      "    app.run(main=my_main, argv=[sys.argv[0]] + unparsed)\n",
      "  File \"/Users/blaze/anaconda3/lib/python3.6/site-packages/tensorflow/python/platform/app.py\", line 40, in run\n",
      "    _run(main=main, argv=argv, flags_parser=_parse_flags_tolerate_undef)\n",
      "  File \"/Users/blaze/anaconda3/lib/python3.6/site-packages/absl/app.py\", line 300, in run\n",
      "    _run_main(main, args)\n",
      "  File \"/Users/blaze/anaconda3/lib/python3.6/site-packages/absl/app.py\", line 251, in _run_main\n",
      "    sys.exit(main(argv))\n",
      "  File \"/Users/blaze/anaconda3/lib/python3.6/site-packages/tensorflow/python/tools/freeze_graph.py\", line 486, in <lambda>\n",
      "    my_main = lambda unused_args: main(unused_args, flags)\n",
      "  File \"/Users/blaze/anaconda3/lib/python3.6/site-packages/tensorflow/python/tools/freeze_graph.py\", line 378, in main\n",
      "    flags.saved_model_tags, checkpoint_version)\n",
      "  File \"/Users/blaze/anaconda3/lib/python3.6/site-packages/tensorflow/python/tools/freeze_graph.py\", line 361, in freeze_graph\n",
      "    checkpoint_version=checkpoint_version)\n",
      "  File \"/Users/blaze/anaconda3/lib/python3.6/site-packages/tensorflow/python/tools/freeze_graph.py\", line 190, in freeze_graph_with_def_protos\n",
      "    var_list=var_list, write_version=checkpoint_version)\n",
      "  File \"/Users/blaze/anaconda3/lib/python3.6/site-packages/tensorflow/python/training/saver.py\", line 825, in __init__\n",
      "    self.build()\n",
      "  File \"/Users/blaze/anaconda3/lib/python3.6/site-packages/tensorflow/python/training/saver.py\", line 837, in build\n",
      "    self._build(self._filename, build_save=True, build_restore=True)\n",
      "  File \"/Users/blaze/anaconda3/lib/python3.6/site-packages/tensorflow/python/training/saver.py\", line 862, in _build\n",
      "    raise ValueError(\"No variables to save\")\n",
      "ValueError: No variables to save\n"
     ]
    }
   ],
   "source": [
    "!freeze_graph \\\n",
    "-input_meta_graph=model.ckpt.meta \\\n",
    "--input_checkpoint=model.ckpt \\\n",
    "--output_graph=keras_frozen.pb \\\n",
    "--output_node_names=\"conv_last/truediv\" \\\n",
    "--input_binary=true"
   ]
  },
  {
   "cell_type": "code",
   "execution_count": null,
   "metadata": {},
   "outputs": [],
   "source": [
    "# force reset ipython namespaces\n",
    "%reset -f\n",
    "\n",
    "import os\n",
    "import tensorflow as tf\n",
    "from tensorflow.python.framework import graph_io\n",
    "from tensorflow.keras.models import load_model\n",
    "\n",
    "\n",
    "# Clear any previous session.\n",
    "tf.keras.backend.clear_session()\n",
    "\n",
    "model_fname = 'weights.39-0.56.hdf5'\n",
    "\n",
    "save_pb_dir = '.'\n",
    "def freeze_graph(graph, session, output, save_pb_dir='.', save_pb_name='frozen_model.pb', save_pb_as_text=False):\n",
    "    with graph.as_default():\n",
    "        graphdef_inf = tf.graph_util.remove_training_nodes(graph.as_graph_def())\n",
    "        graphdef_frozen = tf.graph_util.convert_variables_to_constants(session, graphdef_inf, output)\n",
    "        graph_io.write_graph(graphdef_frozen, save_pb_dir, save_pb_name, as_text=save_pb_as_text)\n",
    "        return graphdef_frozen\n",
    "\n",
    "# This line must be executed before loading Keras model.\n",
    "tf.keras.backend.set_learning_phase(0) \n",
    "\n",
    "model = load_model(model_fname)\n",
    "\n",
    "session = tf.keras.backend.get_session()\n",
    "\n",
    "INPUT_NODE = [t.op.name for t in model.inputs]\n",
    "OUTPUT_NODE = [t.op.name for t in model.outputs]\n",
    "print(INPUT_NODE, OUTPUT_NODE)\n",
    "frozen_graph = freeze_graph(session.graph, session, [out.op.name for out in model.outputs], save_pb_dir=save_pb_dir)"
   ]
  }
 ],
 "metadata": {
  "kernelspec": {
   "display_name": "Python 3",
   "language": "python",
   "name": "python3"
  },
  "language_info": {
   "codemirror_mode": {
    "name": "ipython",
    "version": 3
   },
   "file_extension": ".py",
   "mimetype": "text/x-python",
   "name": "python",
   "nbconvert_exporter": "python",
   "pygments_lexer": "ipython3",
   "version": "3.6.8"
  },
  "toc": {
   "base_numbering": 1,
   "nav_menu": {},
   "number_sections": true,
   "sideBar": true,
   "skip_h1_title": false,
   "title_cell": "Table of Contents",
   "title_sidebar": "Contents",
   "toc_cell": false,
   "toc_position": {},
   "toc_section_display": true,
   "toc_window_display": false
  },
  "varInspector": {
   "cols": {
    "lenName": 16,
    "lenType": 16,
    "lenVar": 40
   },
   "kernels_config": {
    "python": {
     "delete_cmd_postfix": "",
     "delete_cmd_prefix": "del ",
     "library": "var_list.py",
     "varRefreshCmd": "print(var_dic_list())"
    },
    "r": {
     "delete_cmd_postfix": ") ",
     "delete_cmd_prefix": "rm(",
     "library": "var_list.r",
     "varRefreshCmd": "cat(var_dic_list()) "
    }
   },
   "types_to_exclude": [
    "module",
    "function",
    "builtin_function_or_method",
    "instance",
    "_Feature"
   ],
   "window_display": false
  }
 },
 "nbformat": 4,
 "nbformat_minor": 2
}
